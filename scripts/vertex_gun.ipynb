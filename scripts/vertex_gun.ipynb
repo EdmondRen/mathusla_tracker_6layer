{
 "cells": [
  {
   "cell_type": "code",
   "execution_count": 1,
   "id": "e06ff11c-af05-4244-9f2d-5b782541d46b",
   "metadata": {},
   "outputs": [],
   "source": [
    "import importlib\n",
    "from importlib import reload\n",
    "\n",
    "import sim_filereader_helper as sh"
   ]
  },
  {
   "cell_type": "code",
   "execution_count": 9,
   "id": "34562243-aaea-4d8d-b78f-3aba4735f768",
   "metadata": {},
   "outputs": [
    {
     "data": {
      "text/plain": [
       "<module 'sim_filereader_helper' from '/project/6035200/tomren/jupyter/tracker_6layers/scripts/sim_filereader_helper.py'>"
      ]
     },
     "execution_count": 9,
     "metadata": {},
     "output_type": "execute_result"
    }
   ],
   "source": [
    "reload(sh)"
   ]
  },
  {
   "cell_type": "markdown",
   "id": "dce8dafc-bfe2-469b-83c4-c330e68fdd3b",
   "metadata": {},
   "source": [
    "# Generate Muon-Muon vertex \n",
    "\n",
    "* Primary particle M=4000 MeV, P=4000 MeV   \n",
    "* Vertex at (450.0, 7500, 10500) CMS coordinate  \n",
    "* decayproduct_pid specifies two muons\n",
    "\n",
    "The output script can be directly used for simulation:   \n",
    "`simulation -q -o /home/tomren/mathusla/data/vertex_gun_debug/test_2decay_m4GeV_p40GeV -s /home/tomren/mathusla/data/fit_study_6layer/log/test_2decay_m4GeV_p40GeV.mac`"
   ]
  },
  {
   "cell_type": "code",
   "execution_count": 11,
   "id": "15cb6ccf-2a25-40e5-9c7e-a3e5b52b6672",
   "metadata": {},
   "outputs": [
    {
     "name": "stdout",
     "output_type": "stream",
     "text": [
      "Script saved at /home/tomren/mathusla/data/fit_study_6layer/log/test_2decay_m4GeV_p4GeV.mac\n"
     ]
    },
    {
     "data": {
      "text/plain": [
       "'/home/tomren/mathusla/data/fit_study_6layer/log/test_2decay_m4GeV_p4GeV.mac'"
      ]
     },
     "execution_count": 11,
     "metadata": {},
     "output_type": "execute_result"
    }
   ],
   "source": [
    "filename=\"/home/tomren/mathusla/data/fit_study_6layer/log/test_2decay_m4GeV_p4GeV.txt\"\n",
    "M=4000\n",
    "P=4000\n",
    "coord = [450.0, 7500, 10500]\n",
    "\n",
    "sh.generate_twobody_decay_file(filename, M, P, coord, decayproduct_pid=[13,13], Nevents=40, OVER_WRITE=True)\n",
    "sh.generate_sim_script_filereader(filename)"
   ]
  },
  {
   "cell_type": "code",
   "execution_count": 12,
   "id": "bebbb6e0-c738-4499-8fbe-3df10d1df9d4",
   "metadata": {},
   "outputs": [
    {
     "name": "stdout",
     "output_type": "stream",
     "text": [
      "Script saved at /home/tomren/mathusla/data/fit_study_6layer/log/test_2decay_m4GeV_p40GeV.mac\n"
     ]
    },
    {
     "data": {
      "text/plain": [
       "'/home/tomren/mathusla/data/fit_study_6layer/log/test_2decay_m4GeV_p40GeV.mac'"
      ]
     },
     "execution_count": 12,
     "metadata": {},
     "output_type": "execute_result"
    }
   ],
   "source": [
    "filename=\"/home/tomren/mathusla/data/fit_study_6layer/log/test_2decay_m4GeV_p40GeV.txt\"\n",
    "M=4000\n",
    "P=40000\n",
    "coord = [450.0, 7500, 10500]\n",
    "\n",
    "sh.generate_twobody_decay_file(filename, M, P, coord, decayproduct_pid=[13,13], Nevents=40, OVER_WRITE=True)\n",
    "sh.generate_sim_script_filereader(filename)"
   ]
  },
  {
   "cell_type": "code",
   "execution_count": 14,
   "id": "92d8ffe3-b270-4af1-a65e-19083e27d752",
   "metadata": {},
   "outputs": [
    {
     "data": {
      "text/plain": [
       "Momentum4(779.06, -772.681, 0, 0)"
      ]
     },
     "execution_count": 14,
     "metadata": {},
     "output_type": "execute_result"
    }
   ],
   "source": [
    "sh.frame_transform([100, -10,0,0], (1,0,0), 0.99)"
   ]
  },
  {
   "cell_type": "code",
   "execution_count": 29,
   "id": "7a9a6640-e1ff-4f07-8f98-fa67875aae5a",
   "metadata": {},
   "outputs": [
    {
     "data": {
      "text/plain": [
       "(Momentum4(2.24165, 1.60893, 1.03525, -1.16336),\n",
       " Momentum4(1.38602, 0.391067, -0.635247, 1.16336))"
      ]
     },
     "execution_count": 29,
     "metadata": {},
     "output_type": "execute_result"
    }
   ],
   "source": [
    "# Verify two body decay\n",
    "mass=4000\n",
    "three_momentum=[2,0.4,0]\n",
    "rand_seed=6\n",
    "sh.twobody_decay(mass, three_momentum, decayproduct_pid=[13,13], rand_seed=rand_seed)"
   ]
  },
  {
   "cell_type": "code",
   "execution_count": 38,
   "id": "31a0cad1-79e8-431b-9898-8e361d81107f",
   "metadata": {},
   "outputs": [
    {
     "data": {
      "text/plain": [
       "array([[667.05528371, 654.55677675, 128.91135535,   0.        ]])"
      ]
     },
     "execution_count": 38,
     "metadata": {},
     "output_type": "execute_result"
    }
   ],
   "source": [
    "sh.multibody_decay_MA(3, 200, [175,77,0], [[0.2,10,0,0]])"
   ]
  },
  {
   "cell_type": "code",
   "execution_count": 12,
   "id": "12aa5969-02d9-483b-ab10-5141226dd35d",
   "metadata": {},
   "outputs": [
    {
     "name": "stdout",
     "output_type": "stream",
     "text": [
      "Script saved at /project/def-mdiamond/tomren/jupyter/tracker_6layers/scripts/particle_parameters.mac\n"
     ]
    }
   ],
   "source": [
    "generate_sim_script_filereader(\"/project/def-mdiamond/tomren/jupyter/tracker_6layers/scripts/particle_parameters.tsv\")"
   ]
  },
  {
   "cell_type": "markdown",
   "id": "da3730fa-3e2b-4dfe-ae98-03f9c6bb9ee6",
   "metadata": {},
   "source": [
    "# Combine root files"
   ]
  },
  {
   "cell_type": "code",
   "execution_count": 16,
   "id": "ab4bb7cb-6fad-4cab-8216-683a642e3035",
   "metadata": {},
   "outputs": [],
   "source": [
    "import ROOT as root\n",
    "from array import array\n",
    "from tqdm import tqdm"
   ]
  },
  {
   "cell_type": "code",
   "execution_count": 14,
   "id": "763471fe-32cf-44c4-b311-ce3c6bd37094",
   "metadata": {},
   "outputs": [],
   "source": [
    "filename_ins=[\"/project/def-mdiamond/tomren/mathusla/data/fit_study_6layer/muon_100_GeV/20230503/170343/run0.root\",\n",
    "             \"/project/def-mdiamond/tomren/mathusla/data/fit_study_6layer/muon_10_GeV/20230503/170209/run0.root\"]\n",
    "filename_combined = \"data/combined.root\"\n",
    "tree_name = \"box_run\"\n",
    "nfiles = len(filename_ins)"
   ]
  },
  {
   "cell_type": "code",
   "execution_count": 19,
   "id": "b274fe5e-2fcb-4077-aee6-3b65bd27f9b3",
   "metadata": {},
   "outputs": [],
   "source": [
    "# keys = ['NumHits', 'Hit_energy', 'Hit_time', 'Hit_detId', 'Hit_particlePdgId', 'Hit_G4TrackId', 'Hit_G4ParentTrackId', 'Hit_x', 'Hit_y', 'Hit_z', 'Hit_particleEnergy', 'Hit_particlePx', 'Hit_particlePy', 'Hit_particlePz', 'Hit_weight']\n",
    "# keys_nonused=['NumGenParticles', 'GenParticle_index', 'GenParticle_G4index', 'GenParticle_pdgid', 'GenParticle_status', 'GenParticle_time', 'GenParticle_x', 'GenParticle_y', 'GenParticle_z', 'GenParticle_energy', 'GenParticle_px', 'GenParticle_py', 'GenParticle_pz', 'GenParticle_mo1', 'GenParticle_mo2', 'GenParticle_dau1', 'GenParticle_dau2', 'GenParticle_mass', 'GenParticle_pt', 'GenParticle_eta', 'GenParticle_phi', 'COSMIC_EVENT_ID', 'COSMIC_CORE_X', 'COSMIC_CORE_Y', 'COSMIC_GEN_PRIMARY_ENERGY', 'COSMIC_GEN_THETA', 'COSMIC_GEN_PHI', 'COSMIC_GEN_FIRST_HEIGHT', 'COSMIC_GEN_ELECTRON_COUNT', 'COSMIC_GEN_MUON_COUNT', 'COSMIC_GEN_HADRON_COUNT', 'COSMIC_GEN_PRIMARY_ID', 'EXTRA_11', 'EXTRA_12', 'EXTRA_13', 'EXTRA_14', 'EXTRA_15']\n",
    "\n",
    "\n",
    "# # Open the first file\n",
    "# f0=root.TFile(filename_ins[0])\n",
    "# Tree0 = f0.Get(tree_name)\n",
    "# Nevents = int(Tree0.GetEntries())\n",
    "\n",
    "# # Open the target file\n",
    "# f=root.TFile(filename_combined,'RECREATE')\n",
    "# f.cd()\n",
    "# t_fill=root.TTree(tree_name, tree_name)\n",
    "\n",
    "# # Basic type branch (float) - use array of length 1\n",
    "# NumHits = array('d', [0])\n",
    "# t_fill.Branch('NumHits', NumHits, 'NumHits/D')\n",
    "# # std::vector branch\n",
    "# for key in keys[1:]:\n",
    "#     exec(f\"{key} = root.std.vector('double')(300*[0])\")\n",
    "#     exec(f\"t_fill.Branch(key, {key})\")\n",
    "    \n",
    "# for key in keys_nonused:\n",
    "#     exec(f\"{key} = root.std.vector('double')(1*[0])\")\n",
    "#     exec(f\"t_fill.Branch(key, {key})\")    \n",
    "\n",
    "# for ifile in range(nfiles):\n",
    "#     if ifile==0:\n",
    "#         for ii in tqdm(range(Nevents)):\n",
    "#             Tree0.GetEntry(ii)\n",
    "            \n",
    "#             NumHits[0]=Tree0.NumHits\n",
    "#             for key in keys[1:]:\n",
    "#                 # exec(f\"temp = [Tree0.{key}[j] for j in range(int(NumHits[0]))]\")\n",
    "#                 # for j in range(int(NumHits[0])):\n",
    "#                 #     exec(f\"{key}[j] = Tree0.{key}[j]\")\n",
    "#             # t_fill.Fill()\n",
    "            \n",
    "#     else:\n",
    "#         f1=root.TFile(filename_ins[ifile])\n",
    "#         Tree1 = f1.Get(tree_name)    \n",
    "#         for ii in tqdm(range(Nevents)):\n",
    "#             Tree1.GetEntry(ii)\n",
    "            \n",
    "#             for key in keys[1:]:\n",
    "#                 for j in range(int(Tree1.NumHits)):\n",
    "#                     exec(f\"{key}[j+int(t_fill.NumHits)] = Tree1.{key}[j]\") \n",
    "#             NumHits[0]=t_fill.NumHits+Tree1.NumHits\n",
    "#             t_fill.Fill()            \n",
    "            \n",
    "            \n",
    "# t_fill.Write()\n",
    "\n",
    "# f.Write()\n",
    "# f.Close()"
   ]
  },
  {
   "cell_type": "code",
   "execution_count": null,
   "id": "01fcd08d-6ad4-40d2-959d-214e2d8d0501",
   "metadata": {},
   "outputs": [],
   "source": []
  }
 ],
 "metadata": {
  "kernelspec": {
   "display_name": "Singularity V04-07",
   "language": "python",
   "name": "cdms_v04-07"
  },
  "language_info": {
   "codemirror_mode": {
    "name": "ipython",
    "version": 3
   },
   "file_extension": ".py",
   "mimetype": "text/x-python",
   "name": "python",
   "nbconvert_exporter": "python",
   "pygments_lexer": "ipython3",
   "version": "3.8.10"
  }
 },
 "nbformat": 4,
 "nbformat_minor": 5
}
