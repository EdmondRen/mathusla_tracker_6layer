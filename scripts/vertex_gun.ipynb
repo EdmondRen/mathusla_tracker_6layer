{
 "cells": [
  {
   "cell_type": "code",
   "execution_count": 3,
   "id": "d78dddb6-d4d2-4c1a-8ad0-1a29b8475d66",
   "metadata": {},
   "outputs": [],
   "source": [
    "import os\n",
    "import pylorentz\n",
    "from pylorentz import Momentum4\n",
    "import numpy as np\n",
    "# !pip install --user --prefix= pylorentz"
   ]
  },
  {
   "cell_type": "code",
   "execution_count": 13,
   "id": "d41e9a21-2427-43d1-b59f-3c68a636a978",
   "metadata": {},
   "outputs": [],
   "source": [
    "def generate_sim_script_filereader(events_properties_filename, script_path=None):\n",
    "    if script_path is None:\n",
    "        script_path = os.path.splitext(events_properties_filename)[0]+\".mac\"\n",
    "        \n",
    "    with open(events_properties_filename, 'r') as file:\n",
    "        nlines_read=0\n",
    "        found_nevents=False\n",
    "        while (not found_nevents) and nlines_read<=10:\n",
    "            line_content = file.readline().split()\n",
    "            nlines_read+=1\n",
    "            if \"nevents\" in line_content:\n",
    "                try:\n",
    "                    nevents = int(line_content[-1])\n",
    "                    found_nevents = True\n",
    "                    break\n",
    "                except:\n",
    "                    print(\"Could not read number of events\")\n",
    "            \n",
    "\n",
    "    script = \"/det/select Box \\n\"\n",
    "    script+= \"/gen/select file_reader \\n\"\n",
    "    script+= f\"/gen/file_reader/pathname {events_properties_filename}\\n\"\n",
    "    script+= f\"/run/beamOn {nevents}\"\n",
    "\n",
    "    with open(script_path, 'w') as file:\n",
    "        file.write(script)\n",
    "        \n",
    "    print(\"Script saved at\", script_path)\n",
    "    \n",
    "    return script_path\n",
    "\n",
    "def frame_transform(e, p_x, p_y, p_z, boost_direction, beta=None, gamma=None):\n",
    "    \"\"\"\n",
    "    Transform the momentum four-vector with boost_direction and beta/gamma\n",
    "    \"\"\"\n",
    "    x, y, z = boost_direction\n",
    "    four_momentum = pylorentz.Momentum4(e, p_x, p_y, p_z).boost(x, y, z, beta=beta, gamma=gamma)\n",
    "    return four_momentum\n",
    "    \n",
    "    \n",
    "def twobody_decay(mass, three_momentum, decayproduct_pid=[13,13], rand_seed=None):\n",
    "    \"\"\"\n",
    "    mass: mass of the decay particle [GeV]\n",
    "    three_momentum: NON_RELATIVISTIC three momentum of the decay partile [GeV]\n",
    "    rand_seed: If None, then fresh, unpredictable entropy will be pulled from the OS. \n",
    "    \"\"\"\n",
    "    mass_map={13: 0.1057, # mu-\n",
    "             11:0.000511, # e-\n",
    "             }\n",
    "    \n",
    "    m1=mass_map[decayproduct_pid[0]]\n",
    "    m2=mass_map[decayproduct_pid[1]]\n",
    "    M=mass\n",
    "    P=np.sqrt(np.sum(np.power(three_momentum,2)))\n",
    "    \n",
    "    # First, 0->1+2 decay in the rest frame of 0:\n",
    "    E1 = (M**2+m1**2-m2**2)/(2*M)\n",
    "    E2 = (M**2+m2**2-m1**2)/(2*M)\n",
    "    p1 = ((M**2+m1**2-m2**2)**2- 4*M**2*m1**2)**0.5/(2*M)\n",
    "    p2 = ((M**2+m2**2-m1**2)**2- 4*M**2*m2**2)**0.5/(2*M)\n",
    "    \n",
    "    # Generate a randomized direction\n",
    "    rng = np.random.default_rng(seed=rand_seed)\n",
    "    p1_x = rng.normal(0,1)\n",
    "    p1_y = rng.normal(0,1)\n",
    "    p1_z = rng.normal(0,1)\n",
    "    mag = np.sqrt(p1_x**2+p1_y**2+p1_z**2)\n",
    "    p1_x = p1_x/mag*p1\n",
    "    p1_y = p1_y/mag*p1\n",
    "    p1_z = p1_z/mag*p1\n",
    "    \n",
    "    # Boost the 4-momentum\n",
    "    boost_direction = three_momentum\n",
    "    boost_gamma = M**2+\n",
    "    \n",
    "    "
   ]
  },
  {
   "cell_type": "code",
   "execution_count": 31,
   "id": "1a968a81-5b40-4f87-8177-df71f0c4978d",
   "metadata": {},
   "outputs": [],
   "source": [
    "rng = np.random.default_rng(seed=1)"
   ]
  },
  {
   "cell_type": "code",
   "execution_count": 32,
   "id": "7a9a6640-e1ff-4f07-8f98-fa67875aae5a",
   "metadata": {},
   "outputs": [
    {
     "data": {
      "text/plain": [
       "0.345584192064786"
      ]
     },
     "execution_count": 32,
     "metadata": {},
     "output_type": "execute_result"
    }
   ],
   "source": [
    "rng.normal(0,1)"
   ]
  },
  {
   "cell_type": "code",
   "execution_count": 27,
   "id": "57ec13eb-ad5b-4ce1-bd5a-d0f04ac1640e",
   "metadata": {},
   "outputs": [
    {
     "data": {
      "text/plain": [
       "Momentum4(7.08881, 7.08881, 0, 0)"
      ]
     },
     "execution_count": 27,
     "metadata": {},
     "output_type": "execute_result"
    }
   ],
   "source": [
    "frame_transform(100, 100,0,0, (1,0,0), 0.99)"
   ]
  },
  {
   "cell_type": "code",
   "execution_count": 12,
   "id": "12aa5969-02d9-483b-ab10-5141226dd35d",
   "metadata": {},
   "outputs": [
    {
     "name": "stdout",
     "output_type": "stream",
     "text": [
      "Script saved at /project/def-mdiamond/tomren/jupyter/tracker_6layers/scripts/particle_parameters.mac\n"
     ]
    }
   ],
   "source": [
    "generate_sim_script_filereader(\"/project/def-mdiamond/tomren/jupyter/tracker_6layers/scripts/particle_parameters.tsv\")"
   ]
  },
  {
   "cell_type": "markdown",
   "id": "da3730fa-3e2b-4dfe-ae98-03f9c6bb9ee6",
   "metadata": {},
   "source": [
    "# Combine root files"
   ]
  },
  {
   "cell_type": "code",
   "execution_count": 16,
   "id": "ab4bb7cb-6fad-4cab-8216-683a642e3035",
   "metadata": {},
   "outputs": [],
   "source": [
    "import ROOT as root\n",
    "from array import array\n",
    "from tqdm import tqdm"
   ]
  },
  {
   "cell_type": "code",
   "execution_count": 14,
   "id": "763471fe-32cf-44c4-b311-ce3c6bd37094",
   "metadata": {},
   "outputs": [],
   "source": [
    "filename_ins=[\"/project/def-mdiamond/tomren/mathusla/data/fit_study_6layer/muon_100_GeV/20230503/170343/run0.root\",\n",
    "             \"/project/def-mdiamond/tomren/mathusla/data/fit_study_6layer/muon_10_GeV/20230503/170209/run0.root\"]\n",
    "filename_combined = \"data/combined.root\"\n",
    "tree_name = \"box_run\"\n",
    "nfiles = len(filename_ins)"
   ]
  },
  {
   "cell_type": "code",
   "execution_count": 21,
   "id": "b274fe5e-2fcb-4077-aee6-3b65bd27f9b3",
   "metadata": {},
   "outputs": [
    {
     "name": "stderr",
     "output_type": "stream",
     "text": [
      "  2%|▏         | 735/40000 [00:16<14:15, 45.88it/s]Exception ignored in: <generator object tqdm.__iter__ at 0x2b719bb62dd0>\n",
      "Traceback (most recent call last):\n",
      "  File \"/usr/local/lib/python3.8/dist-packages/tqdm/std.py\", line 1210, in __iter__\n",
      "    self.close()\n",
      "  File \"/usr/local/lib/python3.8/dist-packages/tqdm/std.py\", line 1316, in close\n",
      "    self.display(pos=0)\n",
      "  File \"/usr/local/lib/python3.8/dist-packages/tqdm/std.py\", line 1509, in display\n",
      "    self.sp(self.__str__() if msg is None else msg)\n",
      "  File \"/usr/local/lib/python3.8/dist-packages/tqdm/std.py\", line 350, in print_status\n",
      "    fp_write('\\r' + s + (' ' * max(last_len[0] - len_s, 0)))\n",
      "  File \"/usr/local/lib/python3.8/dist-packages/tqdm/std.py\", line 343, in fp_write\n",
      "    fp.write(_unicode(s))\n",
      "  File \"/usr/local/lib/python3.8/dist-packages/tqdm/utils.py\", line 145, in inner\n",
      "    return func(*args, **kwargs)\n",
      "  File \"/usr/local/lib/python3.8/dist-packages/ipykernel/iostream.py\", line 531, in write\n",
      "    self.pub_thread.schedule(lambda: self._buffer.write(string))\n",
      "  File \"/usr/local/lib/python3.8/dist-packages/ipykernel/iostream.py\", line 216, in schedule\n",
      "    self._event_pipe.send(b'')\n",
      "  File \"/usr/local/lib/python3.8/dist-packages/zmq/sugar/socket.py\", line 547, in send\n",
      "    return super(Socket, self).send(data, flags=flags, copy=copy, track=track)\n",
      "  File \"zmq/backend/cython/socket.pyx\", line 718, in zmq.backend.cython.socket.Socket.send\n",
      "  File \"zmq/backend/cython/socket.pyx\", line 765, in zmq.backend.cython.socket.Socket.send\n",
      "  File \"zmq/backend/cython/socket.pyx\", line 242, in zmq.backend.cython.socket._send_copy\n",
      "  File \"zmq/backend/cython/checkrc.pxd\", line 13, in zmq.backend.cython.checkrc._check_rc\n",
      "KeyboardInterrupt: \n"
     ]
    },
    {
     "ename": "KeyboardInterrupt",
     "evalue": "",
     "output_type": "error",
     "traceback": [
      "\u001b[0;31m---------------------------------------------------------------------------\u001b[0m",
      "\u001b[0;31mKeyboardInterrupt\u001b[0m                         Traceback (most recent call last)",
      "Input \u001b[0;32mIn [21]\u001b[0m, in \u001b[0;36m<cell line: 27>\u001b[0;34m()\u001b[0m\n\u001b[1;32m     32\u001b[0m         NumHits[\u001b[38;5;241m0\u001b[39m]\u001b[38;5;241m=\u001b[39mTree0\u001b[38;5;241m.\u001b[39mNumHits\n\u001b[1;32m     33\u001b[0m         \u001b[38;5;28;01mfor\u001b[39;00m key \u001b[38;5;129;01min\u001b[39;00m keys[\u001b[38;5;241m1\u001b[39m:]:\n\u001b[0;32m---> 34\u001b[0m             \u001b[43mexec\u001b[49m\u001b[43m(\u001b[49m\u001b[38;5;124;43mf\u001b[39;49m\u001b[38;5;124;43m\"\u001b[39;49m\u001b[38;5;124;43mtemp = [Tree0.\u001b[39;49m\u001b[38;5;132;43;01m{\u001b[39;49;00m\u001b[43mkey\u001b[49m\u001b[38;5;132;43;01m}\u001b[39;49;00m\u001b[38;5;124;43m[j] for j in range(int(NumHits[0]))]\u001b[39;49m\u001b[38;5;124;43m\"\u001b[39;49m\u001b[43m)\u001b[49m\n\u001b[1;32m     35\u001b[0m             \u001b[38;5;66;03m# for j in range(int(NumHits[0])):\u001b[39;00m\n\u001b[1;32m     36\u001b[0m             \u001b[38;5;66;03m#     exec(f\"{key}[j] = Tree0.{key}[j]\")\u001b[39;00m\n\u001b[1;32m     37\u001b[0m         \u001b[38;5;66;03m# t_fill.Fill()\u001b[39;00m\n\u001b[1;32m     38\u001b[0m         \n\u001b[1;32m     39\u001b[0m \u001b[38;5;28;01melse\u001b[39;00m:\n\u001b[1;32m     40\u001b[0m     f1\u001b[38;5;241m=\u001b[39mroot\u001b[38;5;241m.\u001b[39mTFile(filename_ins[ifile])\n",
      "File \u001b[0;32m<string>:1\u001b[0m, in \u001b[0;36m<module>\u001b[0;34m\u001b[0m\n",
      "File \u001b[0;32m<string>:1\u001b[0m, in \u001b[0;36m<listcomp>\u001b[0;34m(.0)\u001b[0m\n",
      "\u001b[0;31mKeyboardInterrupt\u001b[0m: "
     ]
    }
   ],
   "source": [
    "keys = ['NumHits', 'Hit_energy', 'Hit_time', 'Hit_detId', 'Hit_particlePdgId', 'Hit_G4TrackId', 'Hit_G4ParentTrackId', 'Hit_x', 'Hit_y', 'Hit_z', 'Hit_particleEnergy', 'Hit_particlePx', 'Hit_particlePy', 'Hit_particlePz', 'Hit_weight']\n",
    "keys_nonused=['NumGenParticles', 'GenParticle_index', 'GenParticle_G4index', 'GenParticle_pdgid', 'GenParticle_status', 'GenParticle_time', 'GenParticle_x', 'GenParticle_y', 'GenParticle_z', 'GenParticle_energy', 'GenParticle_px', 'GenParticle_py', 'GenParticle_pz', 'GenParticle_mo1', 'GenParticle_mo2', 'GenParticle_dau1', 'GenParticle_dau2', 'GenParticle_mass', 'GenParticle_pt', 'GenParticle_eta', 'GenParticle_phi', 'COSMIC_EVENT_ID', 'COSMIC_CORE_X', 'COSMIC_CORE_Y', 'COSMIC_GEN_PRIMARY_ENERGY', 'COSMIC_GEN_THETA', 'COSMIC_GEN_PHI', 'COSMIC_GEN_FIRST_HEIGHT', 'COSMIC_GEN_ELECTRON_COUNT', 'COSMIC_GEN_MUON_COUNT', 'COSMIC_GEN_HADRON_COUNT', 'COSMIC_GEN_PRIMARY_ID', 'EXTRA_11', 'EXTRA_12', 'EXTRA_13', 'EXTRA_14', 'EXTRA_15']\n",
    "\n",
    "\n",
    "# Open the first file\n",
    "f0=root.TFile(filename_ins[0])\n",
    "Tree0 = f0.Get(tree_name)\n",
    "Nevents = int(Tree0.GetEntries())\n",
    "\n",
    "# Open the target file\n",
    "f=root.TFile(filename_combined,'RECREATE')\n",
    "f.cd()\n",
    "t_fill=root.TTree(tree_name, tree_name)\n",
    "\n",
    "# Basic type branch (float) - use array of length 1\n",
    "NumHits = array('d', [0])\n",
    "t_fill.Branch('NumHits', NumHits, 'NumHits/D')\n",
    "# std::vector branch\n",
    "for key in keys[1:]:\n",
    "    exec(f\"{key} = root.std.vector('double')(300*[0])\")\n",
    "    exec(f\"t_fill.Branch(key, {key})\")\n",
    "    \n",
    "for key in keys_nonused:\n",
    "    exec(f\"{key} = root.std.vector('double')(1*[0])\")\n",
    "    exec(f\"t_fill.Branch(key, {key})\")    \n",
    "\n",
    "for ifile in range(nfiles):\n",
    "    if ifile==0:\n",
    "        for ii in tqdm(range(Nevents)):\n",
    "            Tree0.GetEntry(ii)\n",
    "            \n",
    "            NumHits[0]=Tree0.NumHits\n",
    "            for key in keys[1:]:\n",
    "                # exec(f\"temp = [Tree0.{key}[j] for j in range(int(NumHits[0]))]\")\n",
    "                # for j in range(int(NumHits[0])):\n",
    "                #     exec(f\"{key}[j] = Tree0.{key}[j]\")\n",
    "            # t_fill.Fill()\n",
    "            \n",
    "    else:\n",
    "        f1=root.TFile(filename_ins[ifile])\n",
    "        Tree1 = f1.Get(tree_name)    \n",
    "        for ii in tqdm(range(Nevents)):\n",
    "            Tree1.GetEntry(ii)\n",
    "            \n",
    "            for key in keys[1:]:\n",
    "                for j in range(int(Tree1.NumHits)):\n",
    "                    exec(f\"{key}[j+int(t_fill.NumHits)] = Tree1.{key}[j]\") \n",
    "            NumHits[0]=t_fill.NumHits+Tree1.NumHits\n",
    "            t_fill.Fill()            \n",
    "            \n",
    "            \n",
    "t_fill.Write()\n",
    "\n",
    "f.Write()\n",
    "f.Close()"
   ]
  },
  {
   "cell_type": "code",
   "execution_count": null,
   "id": "01fcd08d-6ad4-40d2-959d-214e2d8d0501",
   "metadata": {},
   "outputs": [],
   "source": []
  }
 ],
 "metadata": {
  "kernelspec": {
   "display_name": "Singularity V04-07",
   "language": "python",
   "name": "cdms_v04-07"
  },
  "language_info": {
   "codemirror_mode": {
    "name": "ipython",
    "version": 3
   },
   "file_extension": ".py",
   "mimetype": "text/x-python",
   "name": "python",
   "nbconvert_exporter": "python",
   "pygments_lexer": "ipython3",
   "version": "3.8.10"
  }
 },
 "nbformat": 4,
 "nbformat_minor": 5
}
